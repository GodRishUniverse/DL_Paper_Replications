{
 "cells": [
  {
   "cell_type": "markdown",
   "metadata": {},
   "source": [
    "# Vision Transformer Implementation"
   ]
  },
  {
   "cell_type": "code",
   "execution_count": 5,
   "metadata": {},
   "outputs": [],
   "source": [
    "# imports\n",
    "import torch\n",
    "from torch import nn\n",
    "\n",
    "from tqdm.auto import tqdm \n",
    "\n",
    "from einops import rearrange\n",
    "from einops.layers.torch import Rearrange"
   ]
  },
  {
   "cell_type": "code",
   "execution_count": 7,
   "metadata": {},
   "outputs": [],
   "source": [
    "class MLP(nn.Module):\n",
    "    def __init___(self, input_dim, hidden_dim, output_dim, device):\n",
    "        super().__init__()\n",
    "\n",
    "        self.layer = nn.Sequential(\n",
    "            nn.LayerNorm(input_dim, device = device),\n",
    "            nn.Linear(input_dim, hidden_dim, device = device),\n",
    "            nn.GELU(),\n",
    "            nn.Linear(hidden_dim, output_dim, device= device),\n",
    "        )\n",
    "    \n",
    "    def forward(self, x):\n",
    "        x = self.layer(x)\n",
    "        return x"
   ]
  },
  {
   "cell_type": "code",
   "execution_count": null,
   "metadata": {},
   "outputs": [],
   "source": [
    "# We will be doing this for square images and the patches will be square as well\n",
    "def reshape_for_vit(self, sample_to_reshape, patch_size):\n",
    "    b, c, h, w = sample_to_reshape.shape\n",
    "    assert h % patch_size == 0 and w % patch_size == 0, \"Height and Width must be divisible by patch size\"\n",
    "\n",
    "    # reshape c,h,w into c num_patches, patch_size*patch_size *c\n",
    "    num_patches = (h // patch_size) * (w // patch_size)\n",
    "    return sample_to_reshape.reshape(b, num_patches, patch_size*patch_size*c)"
   ]
  },
  {
   "cell_type": "code",
   "execution_count": null,
   "metadata": {},
   "outputs": [],
   "source": [
    "class MSA(nn.Module):\n",
    "    def __init__(self, dim, num_heads, device):\n",
    "        super().__init__()\n",
    "        self.device = device\n",
    "        self.mha = nn.MultiheadAttention(dim, num_heads, device = device)\n",
    "    def forward(self, x):\n",
    "        x = x.to(self.device)\n",
    "        x, _ = self.mha(x, x, x)\n",
    "        return x"
   ]
  },
  {
   "cell_type": "code",
   "execution_count": null,
   "metadata": {},
   "outputs": [],
   "source": [
    "class Transformer(nn.Module):\n",
    "    def __init__(self, dim, hidden_dim, num_heads, layers, device):\n",
    "        super().__init__()\n",
    "\n",
    "        # need to figure out how to compute D and then get the z array from x\n",
    "\n",
    "\n",
    "        self.layer = nn.ModuleList([\n",
    "            MSA(dim, num_heads, device),\n",
    "            MLP(dim, hidden_dim, dim, device)\n",
    "        ])\n",
    "\n",
    "        self.layers = nn.ModuleList([\n",
    "            self.layer\n",
    "            for _ in range(layers)\n",
    "        ])\n",
    "\n",
    "        self.layer_norm = nn.LayerNorm(dim)\n",
    "        \n",
    "    def forward(self, x):\n",
    "        for layer in self.layers:\n",
    "            residual = x\n",
    "            x = self.layer_norm(x)\n",
    "            x = layer(x)[0] #MSA\n",
    "            x = residual + x\n",
    "            \n",
    "            residual = x\n",
    "            x = self.layer_norm(x)\n",
    "            x = layer(x)[1] #MLP\n",
    "            x = residual + x\n",
    "        return x\n",
    "    "
   ]
  },
  {
   "cell_type": "code",
   "execution_count": null,
   "metadata": {},
   "outputs": [
    {
     "name": "stdout",
     "output_type": "stream",
     "text": [
      "torch.Size([1, 196, 768])\n"
     ]
    }
   ],
   "source": [
    "class ViT(nn.Module):\n",
    "    def __init__(self, seq_len, patch_size, dim, hidden_dim, num_heads, num_layers, device):\n",
    "        super().__init__()\n",
    "\n",
    "        self.device = device\n",
    "        # our seq_len is patch_size * patch_size * channels\n",
    "        channels = seq_len // (patch_size * patch_size)\n",
    "\n",
    "        self.to_patch_embedding = nn.Sequential(\n",
    "            Rearrange('b c h w -> b (h*w/p) (p c)', p = patch_size), # same as reshape_for_vit\n",
    "            nn.LayerNorm(patch_size * patch_size * channels),\n",
    "            nn.Linear(patch_size * patch_size * channels, dim),\n",
    "            nn.LayerNorm(dim)\n",
    "        ) # this is E from the paper as this is the patch embedding projection\n",
    "\n",
    "        self.transformer = Transformer(dim, hidden_dim, num_heads, num_layers, device)\n",
    "\n",
    "       \n",
    "\n",
    "    "
   ]
  }
 ],
 "metadata": {
  "kernelspec": {
   "display_name": "Python 3",
   "language": "python",
   "name": "python3"
  },
  "language_info": {
   "codemirror_mode": {
    "name": "ipython",
    "version": 3
   },
   "file_extension": ".py",
   "mimetype": "text/x-python",
   "name": "python",
   "nbconvert_exporter": "python",
   "pygments_lexer": "ipython3",
   "version": "3.11.5"
  }
 },
 "nbformat": 4,
 "nbformat_minor": 2
}
