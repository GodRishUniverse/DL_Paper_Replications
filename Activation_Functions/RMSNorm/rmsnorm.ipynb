{
 "cells": [
  {
   "cell_type": "markdown",
   "metadata": {},
   "source": [
    "# RMSNorm implementation"
   ]
  },
  {
   "cell_type": "code",
   "execution_count": 4,
   "metadata": {},
   "outputs": [],
   "source": [
    "# imports\n",
    "\n",
    "import torch \n",
    "from torch import nn\n",
    "import numpy as np\n",
    "import math\n",
    "from typing import Optional, Tuple, Dict, List"
   ]
  },
  {
   "cell_type": "code",
   "execution_count": 22,
   "metadata": {},
   "outputs": [
    {
     "name": "stdout",
     "output_type": "stream",
     "text": [
      "torch.Size([1, 2])\n",
      "torch.Size([2])\n"
     ]
    }
   ],
   "source": [
    "# basic test\n",
    "x = torch.randn(1, 2)\n",
    "print(x.shape)\n",
    "x = torch.sum(torch.pow(x,2), dim =0)\n",
    "print(x.shape)"
   ]
  },
  {
   "cell_type": "code",
   "execution_count": null,
   "metadata": {},
   "outputs": [],
   "source": [
    "class RMSNorm(nn.Module):\n",
    "    def __init__(self, out_dim, eps=1e-6):\n",
    "        super().__init__()\n",
    "        self.eps = eps # eps for numerical stability\n",
    "        self.g = nn.Parameter(torch.ones(out_dim))  # Learnable scale parameter\n",
    "\n",
    "    def forward(self, x):\n",
    "        rms = torch.pow(x,2).mean(dim = -1, keepdim = True) # mean of x^2\n",
    "        a_hat = (torch.sqrt(x + self.eps)/ rms) \n",
    "        return a_hat * self.g"
   ]
  },
  {
   "cell_type": "code",
   "execution_count": 34,
   "metadata": {},
   "outputs": [
    {
     "name": "stdout",
     "output_type": "stream",
     "text": [
      "torch.Size([1, 2])\n",
      "RMSNorm Shape test passed\n"
     ]
    }
   ],
   "source": [
    "def test_rmsnorm():\n",
    "\n",
    "    n = 2\n",
    "    x = torch.randn(1, n)\n",
    "    rmsnorm = RMSNorm(out_dim = n)\n",
    "    a_hat = rmsnorm(x)\n",
    "\n",
    "    assert a_hat.shape == (1, n)\n",
    "    print(a_hat.shape)\n",
    "    print(\"RMSNorm Shape test passed\")\n",
    "test_rmsnorm()"
   ]
  }
 ],
 "metadata": {
  "kernelspec": {
   "display_name": "Python 3",
   "language": "python",
   "name": "python3"
  },
  "language_info": {
   "codemirror_mode": {
    "name": "ipython",
    "version": 3
   },
   "file_extension": ".py",
   "mimetype": "text/x-python",
   "name": "python",
   "nbconvert_exporter": "python",
   "pygments_lexer": "ipython3",
   "version": "3.11.5"
  }
 },
 "nbformat": 4,
 "nbformat_minor": 2
}
