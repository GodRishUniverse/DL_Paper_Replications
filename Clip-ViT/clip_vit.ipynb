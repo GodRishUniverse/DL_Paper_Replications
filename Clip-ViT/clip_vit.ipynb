{
 "cells": [
  {
   "cell_type": "code",
   "execution_count": null,
   "metadata": {},
   "outputs": [],
   "source": [
    "# imports\n",
    "\n",
    "import torch\n",
    "import torch.nn as nn\n",
    "import torch.nn.functional as F\n",
    "from typing import Union, List, Tuple, Optional, Dict\n",
    "\n",
    "from einops import rearrange\n",
    "from einops.layers.torch import Rearrange"
   ]
  }
 ],
 "metadata": {
  "language_info": {
   "name": "python"
  }
 },
 "nbformat": 4,
 "nbformat_minor": 2
}
