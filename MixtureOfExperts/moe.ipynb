{
 "cells": [
  {
   "cell_type": "markdown",
   "metadata": {},
   "source": [
    "## Mixture of Experts"
   ]
  },
  {
   "cell_type": "code",
   "execution_count": 2,
   "metadata": {},
   "outputs": [],
   "source": [
    "import torch\n",
    "from torch import nn\n",
    "import numpy as np \n",
    "import math\n",
    "import torch.distributions as dist\n"
   ]
  },
  {
   "cell_type": "code",
   "execution_count": null,
   "metadata": {},
   "outputs": [],
   "source": [
    "# Input shape is batch, token_size, embedding_size"
   ]
  },
  {
   "cell_type": "code",
   "execution_count": null,
   "metadata": {},
   "outputs": [],
   "source": [
    "# our experts are gonna be simple FFN with identical architectures \n",
    "class FFN(nn.Module):\n",
    "    def __init__(self, shape, device):\n",
    "        super(self).__init__()\n",
    "    \n",
    "        self.layer = nn.Sequential(\n",
    "            nn.Linear(shape, shape, device = device).\n",
    "            nn.SiLU(),\n",
    "            nn.Linear(shape, shape, device = device)\n",
    "        )\n",
    "    def forward(self, x):\n",
    "        return self.layer(x)\n"
   ]
  },
  {
   "cell_type": "code",
   "execution_count": null,
   "metadata": {},
   "outputs": [],
   "source": [
    "class Gating(nn.Module):\n",
    "    def __init__(self, shape, num_experts, device):\n",
    "        super( self).__init__()\n",
    "\n",
    "        # shape is batch, token_size, embedding_size\n",
    "        assert len(shape) ==3 \n",
    "        batch, token_size, embedding_size = shape\n",
    "\n",
    "        \n",
    "        self.num_experts = num_experts\n",
    "\n",
    "        self.W_g = nn.Parameter(torch.zeros(embedding_size, num_experts, device = device))\n",
    "        nn.init.xavier_uniform_(self.W_g)\n",
    "        self.W_noise = nn.Parameter(torch.randn(embedding_size, num_experts, device = device))\n",
    "\n",
    "        self.softmax= nn.Softmax(dim=1) # dimension 0 will always be the batch so we do not apply softmax there\n",
    "        self.softplus = nn.Softplus()\n",
    "    \n",
    "    def keepTopK(self, v, k):\n",
    "        v[:,:,k:] =-torch.inf\n",
    "        return v         \n",
    "\n",
    "    def forward(self, x, k = 1):\n",
    "        assert k <= self.num_experts\n",
    "\n",
    "        prelim = torch.matmul(x, self.W_g)\n",
    "        noise = torch.matmul(x, self.W_noise)\n",
    "\n",
    "        standard_normal = dist.StandardNormal()(x.shape[0], x.shape[1],  self.num_experts, device = self.device).sample()\n",
    "        noise = self.softplus(noise)\n",
    "\n",
    "        h_x = prelim + standard_normal + noise\n",
    "        return self.softmax(self.keepTopK(h_x, k))"
   ]
  },
  {
   "cell_type": "code",
   "execution_count": null,
   "metadata": {},
   "outputs": [],
   "source": [
    "def test_gating():\n",
    "    gating = Gating(10, 10, 'cpu')\n",
    "    ..."
   ]
  },
  {
   "cell_type": "code",
   "execution_count": null,
   "metadata": {},
   "outputs": [],
   "source": [
    "class MixtureOfExperts(nn.Module):\n",
    "    def __init__(self, shape, number_of_experts, device):\n",
    "        super( self).__init__()\n",
    "\n",
    "        self.number_of_experts = number_of_experts  \n",
    "        self.device = device\n",
    "        \n",
    "    def forward(self, x):\n",
    "        ..."
   ]
  }
 ],
 "metadata": {
  "kernelspec": {
   "display_name": "Python 3",
   "language": "python",
   "name": "python3"
  },
  "language_info": {
   "codemirror_mode": {
    "name": "ipython",
    "version": 3
   },
   "file_extension": ".py",
   "mimetype": "text/x-python",
   "name": "python",
   "nbconvert_exporter": "python",
   "pygments_lexer": "ipython3",
   "version": "3.11.5"
  }
 },
 "nbformat": 4,
 "nbformat_minor": 2
}
