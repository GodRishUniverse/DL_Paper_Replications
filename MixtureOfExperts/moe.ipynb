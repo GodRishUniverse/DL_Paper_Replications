{
 "cells": [
  {
   "cell_type": "markdown",
   "metadata": {},
   "source": [
    "## Mixture of Experts"
   ]
  },
  {
   "cell_type": "code",
   "execution_count": 1,
   "metadata": {},
   "outputs": [],
   "source": [
    "import torch\n",
    "from torch import nn\n",
    "import numpy as np \n",
    "import math\n",
    "import torch.distributions as dist"
   ]
  },
  {
   "cell_type": "code",
   "execution_count": 2,
   "metadata": {},
   "outputs": [],
   "source": [
    "# Input shape is batch, token_size, embedding_size"
   ]
  },
  {
   "cell_type": "code",
   "execution_count": 15,
   "metadata": {},
   "outputs": [],
   "source": [
    "# our experts are gonna be simple FFN with identical architectures \n",
    "class FFN(nn.Module):\n",
    "    def __init__(self, shape, device):\n",
    "        super().__init__()\n",
    "        assert len(shape) == 3\n",
    "        \n",
    "        self.layer = nn.Sequential(\n",
    "            nn.Linear(shape[-1], shape[-1], device = device),\n",
    "            nn.ReLU(),\n",
    "            nn.Linear(shape[-1], shape[-1], device = device)\n",
    "        )\n",
    "    def forward(self, x):\n",
    "        return self.layer(x)\n"
   ]
  },
  {
   "cell_type": "code",
   "execution_count": 16,
   "metadata": {},
   "outputs": [
    {
     "name": "stdout",
     "output_type": "stream",
     "text": [
      "FFN test passed\n"
     ]
    }
   ],
   "source": [
    "def test_ffn():\n",
    "    ffn = FFN((1, 2, 5), device='cpu')\n",
    "    assert ffn(torch.ones((1, 2, 5))).shape == torch.ones((1, 2, 5)).shape\n",
    "    print(\"FFN test passed\")\n",
    "\n",
    "test_ffn()"
   ]
  },
  {
   "cell_type": "code",
   "execution_count": 17,
   "metadata": {},
   "outputs": [],
   "source": [
    "class Gating(nn.Module):\n",
    "    def __init__(self, shape, num_experts, device):\n",
    "        super().__init__()\n",
    "\n",
    "        # shape is batch, token_size, embedding_size\n",
    "        assert len(shape) ==3 \n",
    "        batch, token_size, embedding_size = shape\n",
    "\n",
    "        self.device = device\n",
    "        self.num_experts = num_experts\n",
    "\n",
    "        self.W_g = nn.Parameter(torch.zeros(embedding_size, num_experts).to(device))\n",
    "        nn.init.xavier_uniform_(self.W_g)\n",
    "        self.W_noise = nn.Parameter(torch.randn(embedding_size, num_experts).to(device))\n",
    "\n",
    "        self.softmax= nn.Softmax(dim=-1) # dimension 0 will always be the batch so we do not apply softmax there\n",
    "        self.softplus = nn.Softplus()\n",
    "    \n",
    "    def keepTopK(self, v, k):\n",
    "        # Get the top-k values along the last dimension\n",
    "        topk_values, _ = torch.topk(v, k, dim=-1)\n",
    "\n",
    "        # Create a mask where only the top-k values remain\n",
    "        v_mask = v >= topk_values[..., -1].unsqueeze(-1)\n",
    "\n",
    "        # Set values outside the top-k to -inf\n",
    "        v = torch.where(v_mask, v, torch.tensor(-float('inf'), device=self.device))\n",
    "\n",
    "        return v\n",
    "        \n",
    "    def forward(self, x, k = 1):\n",
    "        assert k <= self.num_experts\n",
    "\n",
    "        prelim = torch.matmul(x, self.W_g)\n",
    "        noise = torch.matmul(x, self.W_noise)\n",
    "\n",
    "        # sample from standard normal\n",
    "        standard_normal = dist.Normal(0, 1).sample((x.shape[0], x.shape[1], self.num_experts)).to(self.device)\n",
    "\n",
    "        # apply softplus\n",
    "        noise = self.softplus(noise)\n",
    "\n",
    "        # comput H(x)\n",
    "        h_x = prelim + standard_normal + noise\n",
    "        return self.softmax(self.keepTopK(h_x, k))"
   ]
  },
  {
   "cell_type": "code",
   "execution_count": 18,
   "metadata": {},
   "outputs": [
    {
     "name": "stdout",
     "output_type": "stream",
     "text": [
      "Gating test passed\n"
     ]
    }
   ],
   "source": [
    "def test_gating():\n",
    "    gating = Gating((1, 2, 5), num_experts=4,  device='cpu')\n",
    "\n",
    "    x = torch.randn((1, 2, 5))\n",
    "\n",
    "    output = gating(x, k=2)\n",
    "    assert output.shape == (1, 2, 4) # 3rd dimension is the number of experts\n",
    "    print(\"Gating test passed\")\n",
    "test_gating()"
   ]
  },
  {
   "cell_type": "code",
   "execution_count": 21,
   "metadata": {},
   "outputs": [],
   "source": [
    "class MixtureOfExperts(nn.Module):\n",
    "    def __init__(self, shape, number_of_experts, device):\n",
    "        super().__init__()\n",
    "\n",
    "        assert len(shape) == 3\n",
    "\n",
    "        self.number_of_experts = number_of_experts  \n",
    "        self.device = device\n",
    "\n",
    "        self.gatings = Gating(shape, number_of_experts, device)\n",
    "        self.experts = nn.ModuleList([FFN(shape, device) for _ in range(number_of_experts)])\n",
    "        \n",
    "    def forward(self, x, k = 1):\n",
    "\n",
    "        assert len(x.shape) == 3 # check the shape \n",
    "\n",
    "        assert k <= self.number_of_experts # assert the shape as k should be less than or equal to number of experts\n",
    "\n",
    "        gates = self.gatings(x, k=k)\n",
    "\n",
    "        y_out = torch.zeros_like(x)\n",
    "         # Apply each expert weighted by its gate value\n",
    "        for i in range(self.number_of_experts):\n",
    "            # Only compute if this expert was selected for at least some inputs\n",
    "            if torch.any(gates[:,:,i] > 0):\n",
    "                expert_output = self.experts[i](x)\n",
    "                # Weight the expert output by its gate value\n",
    "                # expert_output shape is batch, token_size, embedding_size and gates shape is batch, token_size, num_experts and unsqueeze makes the individual shape as batch, token_size, 1\n",
    "                y_out += expert_output * gates[:,:,i].unsqueeze(-1) \n",
    "        return y_out\n"
   ]
  },
  {
   "cell_type": "code",
   "execution_count": 22,
   "metadata": {},
   "outputs": [
    {
     "name": "stdout",
     "output_type": "stream",
     "text": [
      "Moe test passed\n"
     ]
    }
   ],
   "source": [
    "# test the MoE\n",
    "\n",
    "def test_moe():\n",
    "    moe = MixtureOfExperts(shape = (1,24, 512), number_of_experts=20, device='cpu')\n",
    "\n",
    "    x = torch.randn((1, 24, 512))\n",
    "\n",
    "    output = moe(x, k=2)\n",
    "    assert output.shape == (1, 24, 512)\n",
    "    print(\"Moe test passed\")\n",
    "test_moe()"
   ]
  },
  {
   "cell_type": "markdown",
   "metadata": {},
   "source": [
    "## Used Claude to evaluate the model creation and here are its suggestion:\n",
    "Minor Improvement Suggestions:\n",
    "\n",
    "Parameter naming consistency: Consider renaming self.gatings to self.gating in MixtureOfExperts for clarity\n",
    "Fix syntax formatting: There are still some formatting issues with asterisks around parameter names in the Gating and FFN classes (*self*, *shape*, etc.)\n",
    "Add load balancing loss: The paper recommends an auxiliary loss to ensure balanced expert utilization\n",
    "\n",
    "Advanced Enhancements (if needed):\n",
    "\n",
    "Expert capacity: Implement per-expert capacity limits to prevent overloading\n",
    "Batching optimizations: Group inputs by selected experts for more efficient batch processing\n",
    "Layer normalization: Consider adding layer norm before/after expert application"
   ]
  }
 ],
 "metadata": {
  "kernelspec": {
   "display_name": "Python 3",
   "language": "python",
   "name": "python3"
  },
  "language_info": {
   "codemirror_mode": {
    "name": "ipython",
    "version": 3
   },
   "file_extension": ".py",
   "mimetype": "text/x-python",
   "name": "python",
   "nbconvert_exporter": "python",
   "pygments_lexer": "ipython3",
   "version": "3.11.5"
  }
 },
 "nbformat": 4,
 "nbformat_minor": 2
}
