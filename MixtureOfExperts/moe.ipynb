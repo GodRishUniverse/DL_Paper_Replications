{
 "cells": [
  {
   "cell_type": "markdown",
   "metadata": {},
   "source": [
    "## Mixture of Experts"
   ]
  },
  {
   "cell_type": "code",
   "execution_count": null,
   "metadata": {},
   "outputs": [],
   "source": [
    "import torch\n",
    "from torch import nn\n",
    "import numpy as np \n",
    "import math\n",
    "import torch.distributions as dist"
   ]
  },
  {
   "cell_type": "code",
   "execution_count": null,
   "metadata": {},
   "outputs": [],
   "source": [
    "# Input shape is batch, token_size, embedding_size"
   ]
  },
  {
   "cell_type": "code",
   "execution_count": null,
   "metadata": {},
   "outputs": [],
   "source": [
    "# our experts are gonna be simple FFN with identical architectures \n",
    "class FFN(nn.Module):\n",
    "    def __init__(self, shape, device):\n",
    "        super(self).__init__()\n",
    "    \n",
    "        self.layer = nn.Sequential(\n",
    "            nn.Linear(shape, shape, device = device),\n",
    "            nn.ReLU(),\n",
    "            nn.Linear(shape, shape, device = device)\n",
    "        )\n",
    "    def forward(self, x):\n",
    "        return self.layer(x)\n"
   ]
  },
  {
   "cell_type": "code",
   "execution_count": null,
   "metadata": {},
   "outputs": [],
   "source": [
    "class Gating(nn.Module):\n",
    "    def __init__(self, shape, num_experts, device):\n",
    "        super().__init__()\n",
    "\n",
    "        # shape is batch, token_size, embedding_size\n",
    "        assert len(shape) ==3 \n",
    "        batch, token_size, embedding_size = shape\n",
    "\n",
    "        self.device = device\n",
    "        self.num_experts = num_experts\n",
    "\n",
    "        self.W_g = nn.Parameter(torch.zeros(embedding_size, num_experts).to(device))\n",
    "        nn.init.xavier_uniform_(self.W_g)\n",
    "        self.W_noise = nn.Parameter(torch.randn(embedding_size, num_experts).to(device))\n",
    "\n",
    "        self.softmax= nn.Softmax(dim=-1) # dimension 0 will always be the batch so we do not apply softmax there\n",
    "        self.softplus = nn.Softplus()\n",
    "    \n",
    "    def keepTopK(self, v, k):\n",
    "        # Get the top-k values along the last dimension\n",
    "        topk_values, _ = torch.topk(v, k, dim=-1)\n",
    "\n",
    "        # Create a mask where only the top-k values remain\n",
    "        v_mask = v >= topk_values[..., -1].unsqueeze(-1)\n",
    "\n",
    "        # Set values outside the top-k to -inf\n",
    "        v = torch.where(v_mask, v, torch.tensor(-float('inf'), device=self.device))\n",
    "\n",
    "        return v\n",
    "        \n",
    "    def forward(self, x, k = 1):\n",
    "        assert k <= self.num_experts\n",
    "\n",
    "        prelim = torch.matmul(x, self.W_g)\n",
    "        noise = torch.matmul(x, self.W_noise)\n",
    "\n",
    "        # sample from standard normal\n",
    "        standard_normal = dist.Normal(0, 1).sample((x.shape[0], x.shape[1], self.num_experts)).to(self.device)\n",
    "\n",
    "        # apply softplus\n",
    "        noise = self.softplus(noise)\n",
    "\n",
    "        # comput H(x)\n",
    "        h_x = prelim + standard_normal + noise\n",
    "        return self.softmax(self.keepTopK(h_x, k))"
   ]
  },
  {
   "cell_type": "code",
   "execution_count": 12,
   "metadata": {},
   "outputs": [
    {
     "name": "stdout",
     "output_type": "stream",
     "text": [
      "Gating test passed\n"
     ]
    }
   ],
   "source": [
    "def test_gating():\n",
    "    gating = Gating((1, 2, 5), num_experts=4,  device='cpu')\n",
    "\n",
    "    x = torch.randn((1, 2, 5))\n",
    "\n",
    "    output = gating(x, k=2)\n",
    "    assert output.shape == (1, 2, 4) # 3rd dimension is the number of experts\n",
    "    print(\"Gating test passed\")\n",
    "test_gating()"
   ]
  },
  {
   "cell_type": "code",
   "execution_count": null,
   "metadata": {},
   "outputs": [],
   "source": [
    "class MixtureOfExperts(nn.Module):\n",
    "    def __init__(self, shape, number_of_experts, device):\n",
    "        super( self).__init__()\n",
    "\n",
    "        assert len(shape) == 3\n",
    "\n",
    "        self.number_of_experts = number_of_experts  \n",
    "        self.device = device\n",
    "\n",
    "        self.gatings = Gating(shape, number_of_experts, device)\n",
    "        self.experts = nn.ModuleList([FFN(shape, device) for _ in range(number_of_experts)])\n",
    "        \n",
    "    def forward(self, x, k = 1):\n",
    "\n",
    "        assert len(x.shape) == 3\n",
    "\n",
    "        assert k <= self.number_of_experts\n",
    "\n",
    "        ret = self.gatings(x, k=k)\n",
    "\n",
    "        y_out = torch.zeros_like(x)\n",
    "        for idx in ret[-1]:\n",
    "            if idx == 0:\n",
    "                continue\n",
    "            y_out += idx * self.experts[idx](x)\n",
    "\n",
    "        return y_out\n"
   ]
  }
 ],
 "metadata": {
  "kernelspec": {
   "display_name": "Python 3",
   "language": "python",
   "name": "python3"
  },
  "language_info": {
   "codemirror_mode": {
    "name": "ipython",
    "version": 3
   },
   "file_extension": ".py",
   "mimetype": "text/x-python",
   "name": "python",
   "nbconvert_exporter": "python",
   "pygments_lexer": "ipython3",
   "version": "3.11.5"
  }
 },
 "nbformat": 4,
 "nbformat_minor": 2
}
