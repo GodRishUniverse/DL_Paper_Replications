{
 "cells": [
  {
   "cell_type": "markdown",
   "metadata": {},
   "source": [
    "## Mixture of Experts"
   ]
  },
  {
   "cell_type": "code",
   "execution_count": 1,
   "metadata": {},
   "outputs": [],
   "source": [
    "import torch\n",
    "from torch import nn\n",
    "import numpy as np \n",
    "import math"
   ]
  },
  {
   "cell_type": "code",
   "execution_count": null,
   "metadata": {},
   "outputs": [],
   "source": [
    "# our experts are gonna be simple FFN with identical architectures \n",
    "class FFN(nn.Module):\n",
    "    def __init__(self, shape, device):\n",
    "        super(self).__init__()\n",
    "    \n",
    "        self.layer = nn.Sequential(\n",
    "            nn.Linear(shape, shape, device = device).\n",
    "            nn.SiLU(),\n",
    "            nn.Linear(shape, shape, device = device)\n",
    "        )\n",
    "    def forward(self, x):\n",
    "        return self.layer(x)\n"
   ]
  },
  {
   "cell_type": "code",
   "execution_count": null,
   "metadata": {},
   "outputs": [],
   "source": [
    "class Gating(nn.Module):\n",
    "    def __init__(self, shape, device):\n",
    "        super( self).__init__()\n",
    "        self.W = nn.Parameter(torch.zeros(shape).to(device)) # our trainable gating weights\n",
    "        nn.init.xavier_uniform_(self.W)\n",
    "\n",
    "\n",
    "        self.W_noise = nn.Parameter(torch.randn(shape).to(device)) \n",
    "        \n",
    "        self.softmax= nn.Softmax(dim=1)\n",
    "        self.softplus = nn.Softplus()\n",
    "    def keepTopK(self, v, k):\n",
    "        ...\n",
    "        \n",
    "\n",
    "    def forward(self, x):\n",
    "        ..."
   ]
  }
 ],
 "metadata": {
  "kernelspec": {
   "display_name": "Python 3",
   "language": "python",
   "name": "python3"
  },
  "language_info": {
   "codemirror_mode": {
    "name": "ipython",
    "version": 3
   },
   "file_extension": ".py",
   "mimetype": "text/x-python",
   "name": "python",
   "nbconvert_exporter": "python",
   "pygments_lexer": "ipython3",
   "version": "3.11.5"
  }
 },
 "nbformat": 4,
 "nbformat_minor": 2
}
