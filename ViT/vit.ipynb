{
 "cells": [
  {
   "cell_type": "markdown",
   "metadata": {},
   "source": [
    "# Vision Transformer Implementation"
   ]
  },
  {
   "cell_type": "code",
   "execution_count": 2,
   "metadata": {},
   "outputs": [],
   "source": [
    "# imports\n",
    "import torch\n",
    "from torch import nn\n",
    "\n",
    "from tqdm.auto import tqdm \n",
    "from typing import Union, List, Tuple, Optional, Dict\n",
    "\n",
    "from einops import rearrange\n",
    "from einops.layers.torch import Rearrange"
   ]
  },
  {
   "cell_type": "code",
   "execution_count": 3,
   "metadata": {},
   "outputs": [],
   "source": [
    "class MLP(nn.Module):\n",
    "    def __init__(self, input_dim, hidden_dim, output_dim, device):\n",
    "        super().__init__()\n",
    "\n",
    "        self.layer = nn.Sequential(\n",
    "            nn.LayerNorm(input_dim, device = device),\n",
    "            nn.Linear(input_dim, hidden_dim, device = device),\n",
    "            nn.GELU(),\n",
    "            nn.Linear(hidden_dim, output_dim, device= device),\n",
    "        )\n",
    "    \n",
    "    def forward(self, x):\n",
    "        x = self.layer(x)\n",
    "        return x"
   ]
  },
  {
   "cell_type": "code",
   "execution_count": 4,
   "metadata": {},
   "outputs": [
    {
     "name": "stdout",
     "output_type": "stream",
     "text": [
      "torch.Size([1, 128])\n"
     ]
    }
   ],
   "source": [
    "def test_MLP():\n",
    "    mlp = MLP(128, 256, 128, 'cpu')\n",
    "    x = torch.randn(1, 128)\n",
    "    out = mlp(x)\n",
    "    assert out.shape == (1, 128), f\"Expected output shape (1, 128), but got {out.shape}\"  \n",
    "    print(out.shape)  \n",
    "test_MLP()"
   ]
  },
  {
   "cell_type": "code",
   "execution_count": 5,
   "metadata": {},
   "outputs": [],
   "source": [
    "# We will be doing this for square images and the patches will be square as well\n",
    "def reshape_for_vit(self, sample_to_reshape, patch_size):\n",
    "    b, c, h, w = sample_to_reshape.shape\n",
    "    assert h % patch_size == 0 and w % patch_size == 0, \"Height and Width must be divisible by patch size\"\n",
    "\n",
    "    # reshape c,h,w into c num_patches, patch_size*patch_size *c\n",
    "    num_patches = (h // patch_size) * (w // patch_size)\n",
    "    return sample_to_reshape.reshape(b, num_patches, patch_size*patch_size*c)"
   ]
  },
  {
   "cell_type": "code",
   "execution_count": 6,
   "metadata": {},
   "outputs": [],
   "source": [
    "class MSA(nn.Module):\n",
    "    def __init__(self, dim, num_heads, device):\n",
    "        super().__init__()\n",
    "        self.device = device\n",
    "        self.mha = nn.MultiheadAttention(dim, num_heads, batch_first=True, device = device)\n",
    "    def forward(self, x):\n",
    "        x = x.to(self.device)\n",
    "        x, _ = self.mha(x, x, x)\n",
    "        return x"
   ]
  },
  {
   "cell_type": "code",
   "execution_count": 7,
   "metadata": {},
   "outputs": [
    {
     "name": "stdout",
     "output_type": "stream",
     "text": [
      "torch.Size([1, 16, 128])\n"
     ]
    }
   ],
   "source": [
    "def test_MSA():\n",
    "    msa = MSA(128, 8, 'cpu')\n",
    "    x = torch.randn(1, 16, 128)\n",
    "    out = msa(x)\n",
    "    assert out.shape == (1, 16, 128), f\"Expected output shape (1, 16, 128), but got {out.shape}\"  \n",
    "    print(out.shape)\n",
    "test_MSA()"
   ]
  },
  {
   "cell_type": "code",
   "execution_count": 8,
   "metadata": {},
   "outputs": [],
   "source": [
    "class Transformer(nn.Module):\n",
    "    def __init__(self, dim, hidden_dim, num_heads, layers, device):\n",
    "        super().__init__()\n",
    "\n",
    "        # need to figure out how to compute D and then get the z array from x\n",
    "        self.layers = nn.ModuleList([\n",
    "            nn.ModuleList([\n",
    "                MSA(dim, num_heads, device),\n",
    "                MLP(dim, hidden_dim, dim, device)\n",
    "            ])\n",
    "            for _ in range(layers)\n",
    "        ])\n",
    "\n",
    "        self.dropout = nn.Dropout(0.1)\n",
    "\n",
    "        self.layer_norm = nn.LayerNorm(dim)\n",
    "        \n",
    "    def forward(self, x):\n",
    "        for attn, ffn in self.layers:\n",
    "            x = x + attn(self.layer_norm(x)) \n",
    "            x = x + ffn(self.layer_norm(x))\n",
    "        x = self.dropout(x)\n",
    "        return x\n",
    "    "
   ]
  },
  {
   "cell_type": "code",
   "execution_count": 9,
   "metadata": {},
   "outputs": [
    {
     "name": "stdout",
     "output_type": "stream",
     "text": [
      "torch.Size([1, 64, 512])\n"
     ]
    }
   ],
   "source": [
    "def test_transformer():\n",
    "    device = torch.device('cuda' if torch.cuda.is_available() else 'cpu')\n",
    "    x = torch.randn(1, 64, 512).to(device) # as we will be passing a 3 size image\n",
    "    transformer = Transformer(512, 128, 8, 6, device)\n",
    "    out = transformer(x)\n",
    "    print(out.shape)\n",
    "test_transformer()\n",
    "    "
   ]
  },
  {
   "cell_type": "code",
   "execution_count": 10,
   "metadata": {},
   "outputs": [],
   "source": [
    "class ViT(nn.Module):\n",
    "    def __init__(self, image_size: Tuple, patch_size, dim, hid_dim, num_classes, num_heads, num_layers, channels =3, device= \"cuda\"):\n",
    "        super().__init__()\n",
    "        self.device = device\n",
    "        assert len(image_size) == 2, \"Image size must be a tuple of 2 elements\"\n",
    "        # image size can be be H * W\n",
    "        H, W = image_size\n",
    "        assert H % patch_size == 0 and W % patch_size == 0, \"Height and Width must be divisible by patch size\"\n",
    "        # number of patches\n",
    "        num_patches = (H // patch_size) * (W // patch_size)\n",
    "        # patch embedding\n",
    "        self.to_patch_embedding = nn.Sequential(\n",
    "            Rearrange('b c (h p1) (w p2) -> b (h w) (p1 p2 c)', p1 = patch_size, p2 = patch_size),\n",
    "            nn.LayerNorm(patch_size * patch_size * channels),\n",
    "            nn.Linear(patch_size * patch_size * channels, dim),\n",
    "            nn.LayerNorm(dim)\n",
    "        )\n",
    "        self.class_token = nn.Parameter(torch.randn(1, 1, dim))\n",
    "\n",
    "        self.pos_embedding = nn.Parameter(torch.randn(1, num_patches + 1, dim))\n",
    "        self.transformer = Transformer(dim, hid_dim, num_heads, num_layers, device)\n",
    "        self.mlp_head = MLP(dim, dim, num_classes, device)\n",
    "    \n",
    "    def forward(self, x):\n",
    "        b, _, _, _ = x.shape\n",
    "    \n",
    "        # Create patch embeddings\n",
    "        x = self.to_patch_embedding(x)\n",
    "        \n",
    "        # Expand class token to match batch size\n",
    "        cls_tokens = self.class_token.expand(b, -1, -1)\n",
    "        \n",
    "        # Concatenate class token with patch embeddings\n",
    "        z = torch.cat((cls_tokens, x), dim=1)\n",
    "\n",
    "        z = z + self.pos_embedding\n",
    "        z = self.transformer(z)\n",
    "        z = self.mlp_head(z)\n",
    "\n",
    "        logits = z[:, 0, :] # Get the logits for the class token which is the first token\n",
    "        return z, logits"
   ]
  },
  {
   "cell_type": "code",
   "execution_count": 11,
   "metadata": {},
   "outputs": [
    {
     "name": "stdout",
     "output_type": "stream",
     "text": [
      "torch.Size([1, 197, 1000]) torch.Size([1, 1000])\n"
     ]
    }
   ],
   "source": [
    "def test_ViT_Shapes():\n",
    "    device = torch.device('cuda' if torch.cuda.is_available() else 'cpu')\n",
    "    x = torch.randn(1, 3, 224, 224).to(device)\n",
    "    vit = ViT(image_size = (224, 224),patch_size= 16,dim= 512,hid_dim= 128, num_classes= 1000, num_heads=8, num_layers=6, channels=3, device=device)\n",
    "    out, logits = vit(x)\n",
    "    assert out.shape == (1, 197, 1000), f\"Expected output shape (1, 197, 512), but got {out.shape}\"\n",
    "    assert logits.shape == (1, 1000), f\"Expected output shape (1, 1000), but got {logits.shape}\"\n",
    "    print(out.shape, logits.shape)\n",
    "    \n",
    "test_ViT_Shapes()"
   ]
  }
 ],
 "metadata": {
  "kernelspec": {
   "display_name": "Python 3",
   "language": "python",
   "name": "python3"
  },
  "language_info": {
   "codemirror_mode": {
    "name": "ipython",
    "version": 3
   },
   "file_extension": ".py",
   "mimetype": "text/x-python",
   "name": "python",
   "nbconvert_exporter": "python",
   "pygments_lexer": "ipython3",
   "version": "3.11.5"
  }
 },
 "nbformat": 4,
 "nbformat_minor": 2
}
